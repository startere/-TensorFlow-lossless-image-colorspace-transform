{
  "nbformat": 4,
  "nbformat_minor": 0,
  "metadata": {
    "colab": {
      "name": "Untitled0.ipynb",
      "version": "0.3.2",
      "provenance": [],
      "private_outputs": true,
      "collapsed_sections": [],
      "toc_visible": true,
      "machine_shape": "hm"
    },
    "kernelspec": {
      "name": "python3",
      "display_name": "Python 3"
    }
  },
  "cells": [
    {
      "cell_type": "code",
      "metadata": {
        "id": "LsUWAUZYjEqD",
        "colab_type": "code",
        "colab": {}
      },
      "source": [
        "!pip install tensorflow_graphics\n",
        "\n",
        "import tensorflow as tf\n",
        "\n",
        "tf.enable_eager_execution()\n",
        "\n",
        "import matplotlib.pyplot as plt\n",
        "import numpy as np\n",
        "import tensorflow_hub as hub"
      ],
      "execution_count": 0,
      "outputs": []
    },
    {
      "cell_type": "code",
      "metadata": {
        "id": "hWMzzTKmR-tz",
        "colab_type": "code",
        "colab": {}
      },
      "source": [
        ""
      ],
      "execution_count": 0,
      "outputs": []
    },
    {
      "cell_type": "code",
      "metadata": {
        "id": "eqImiC2ZXGEb",
        "colab_type": "code",
        "colab": {}
      },
      "source": [
        ""
      ],
      "execution_count": 0,
      "outputs": []
    },
    {
      "cell_type": "code",
      "metadata": {
        "id": "IGDKv0oi6q_Z",
        "colab_type": "code",
        "colab": {}
      },
      "source": [
        "print(tf.__version__)\n",
        "\n",
        "from google.colab import files\n",
        "uploaded = files.upload()\n",
        "\n",
        "for fn in uploaded.keys():\n",
        "  print('User uploaded file \"{name}\" with length {length} bytes'.format(name=fn, length=len(uploaded[fn])))\n",
        "\n",
        "\n"
      ],
      "execution_count": 0,
      "outputs": []
    },
    {
      "cell_type": "code",
      "metadata": {
        "id": "UwV5gQdg88GO",
        "colab_type": "code",
        "colab": {}
      },
      "source": [
        "#SDR_path = tf.keras.utils.get_file('sdrlake.jpg', 'sdrlake.jpg')\n",
        "  \n",
        "\n",
        "#HDR_path = tf.keras.utils.get_file('hdrlake.jpg','https://drive.google.com/open?id=1o7STsmUqZqI0--YygR0pEi0NOyROB0Ah')\n",
        "  \n",
        "#https://storage.googleapis.com/download.tensorflow.org/example_images/Green_Sea_Turtle_grazing_seagrass.jpg\n",
        "#1hTZW51H8M7t1_xW0xYo1kq9Osq_EsrmQ\n",
        "    \n",
        "def load_img(path_to_img):\n",
        "  max_dim = 3840\n",
        "  \n",
        "  img = tf.read_file(path_to_img)\n",
        "  img = tf.image.decode_image(img, channels=3)\n",
        "  img = tf.image.convert_image_dtype(img, tf.float32)\n",
        "  \n",
        "  shape = tf.cast(tf.shape(img)[:-1], tf.float32)\n",
        "  long_dim = max(shape)\n",
        "  scale = max_dim / long_dim\n",
        "\n",
        "  new_shape = tf.cast(shape * scale, tf.int32)\n",
        "\n",
        "  img = tf.image.resize(img, new_shape)\n",
        "  img = img[tf.newaxis, :]\n",
        "  \n",
        "  return img\n",
        "\n",
        "#def imshow(image, title=None):\n",
        "#  plt.imshow(image)\n",
        "#  if title:\n",
        "#    plt.title(title)\n",
        "\n",
        "image_tensor = tf.image.decode_jpeg(tf.read_file(\"sample_data/SDRLake.jpg\"), channels=3)\n",
        "    \n",
        "SDR_image = load_img(\"sample_data/SDRLake.jpg\")\n",
        "HDR_image = load_img(\"sample_data/HDRLake.jpg\")\n",
        "\n",
        "x = tf.keras.applications.vgg19.preprocess_input(SDR_image*255)\n",
        "x = tf.image.resize(x, (224, 224))\n",
        "vgg = tf.keras.applications.VGG19(include_top=True, weights='imagenet')\n",
        "prediction_probabilities = vgg(x)\n",
        "prediction_probabilities.shape\n",
        "\n",
        "#plt.subplot(1, 2, 1)\n",
        "#imshow(SDR_image, 'Content Image')\n",
        "\n",
        "#plt.subplot(1, 2, 2)\n",
        "#imshow(HDR_image, 'Style Image')    \n",
        "    \n",
        "    \n",
        "\n",
        "#image_tensor = tf.image.decode_jpeg(tf.read_file(\"SDRLake.jpg\"), channels=3)\n",
        "#sess = tf.InteractiveSession()\n",
        "\n",
        "#tfgray = tf.image.rgb_to_grayscale(image)\n",
        "\n",
        "#gray_encoded = tf.image.encode_jpeg(tfgray,name=\"save_me\")\n",
        "\n",
        "#fwrite = tf.write_file(\"grayLake.jpg\", gray_encoded)\n",
        "\n",
        "#img16 = (65536/image).astype('uint16')\n",
        "\n",
        "#hub.get_expected_image_size(image)\n",
        "\n",
        "#img16 = np.int16(image)     # convert to signed 16 bit integer to allow overflow\n",
        "#img16 = (65536/255)*img16  # apply scale factor\n",
        "\n",
        "#encoded16 = tf.image.encode_jpeg(img16,name=\"save_me\")\n",
        "\n",
        "#fwrite = tf.write_file(\"Lake16.jpg\", encoded16)\n",
        "\n",
        "#x = tf.constant([[1.0, 0.0], [0.0, 1.0]])\n",
        "#image_tensor = tf.math.multiply(image_tensor, 2)\n",
        "\n",
        "#sess = tf.Session()\n",
        "#print sess.run(y)\n",
        "# ==> [[2.0, 0.0], [0.0, 2.0]]\n",
        "\n",
        "#output = image_tensor[0, :]\n",
        "#print sess.run(output) \n",
        "\n",
        "#color_encoded = tf.image.encode_jpeg(image_tensor,name=\"save_me\")\n",
        "\n",
        "#fwrite = tf.write_file(\"colorLake.jpg\", color_encoded)\n",
        "\n",
        "#result = sess.run(image_tensor)\n",
        "\n",
        "#sess.run(fwrite)\n",
        "\n",
        "#print(result[1920, 1080])\n",
        "\n",
        "# Add print operation\n",
        "#a = tf.Print(image_tensor, [image_tensor], message=\"This is a: \")\n",
        "\n",
        "# Add more elements of the graph using a\n",
        "#b = tf.add(a, a)\n",
        "\n"
      ],
      "execution_count": 0,
      "outputs": []
    },
    {
      "cell_type": "markdown",
      "metadata": {
        "id": "am4RK81DSHBM",
        "colab_type": "text"
      },
      "source": [
        "# New Section"
      ]
    },
    {
      "cell_type": "code",
      "metadata": {
        "id": "ieZKJ2I4mYyd",
        "colab_type": "code",
        "colab": {}
      },
      "source": [
        "predicted_top_5 = tf.keras.applications.vgg19.decode_predictions(prediction_probabilities.numpy())[0]\n",
        "[(class_name, prob) for (number, class_name, prob) in predicted_top_5]\n",
        "\n",
        "vgg = tf.keras.applications.VGG19(include_top=False, weights='imagenet')\n",
        "\n",
        "print()\n",
        "for layer in vgg.layers:\n",
        "  print(layer.name)"
      ],
      "execution_count": 0,
      "outputs": []
    },
    {
      "cell_type": "markdown",
      "metadata": {
        "id": "dzBBQm-ORHBS",
        "colab_type": "text"
      },
      "source": [
        "# Content layer where will pull our feature maps\n",
        "content_layers = ['block5_conv2'] \n",
        "\n",
        "# Style layer of interest\n",
        "style_layers = ['block1_conv1',\n",
        "                'block2_conv1',\n",
        "                'block3_conv1', \n",
        "                'block4_conv1', \n",
        "                'block5_conv1']"
      ]
    },
    {
      "cell_type": "code",
      "metadata": {
        "id": "mPBpEN2kc2yV",
        "colab_type": "code",
        "colab": {}
      },
      "source": [
        "# Content layer where will pull our feature maps\n",
        "content_layers = ['block5_conv2'] \n",
        "\n",
        "# Style layer of interest\n",
        "style_layers = ['block1_conv1',\n",
        "                'block2_conv1',\n",
        "                'block3_conv1', \n",
        "                'block4_conv1', \n",
        "                'block5_conv1']\n",
        "\n",
        "num_content_layers = len(content_layers)\n",
        "num_style_layers = len(style_layers)\n",
        "\n",
        "def vgg_layers(layer_names):\n",
        "  \"\"\" Creates a vgg model that returns a list of intermediate output values.\"\"\"\n",
        "  # Load our model. Load pretrained VGG, trained on imagenet data\n",
        "  vgg = tf.keras.applications.VGG19(include_top=False, weights='imagenet')\n",
        "  vgg.trainable = False\n",
        "  \n",
        "  outputs = [vgg.get_layer(name).output for name in layer_names]\n",
        "\n",
        "  model = tf.keras.Model([vgg.input], outputs)\n",
        "  return model\n",
        "\n",
        "style_extractor = vgg_layers(style_layers)\n",
        "style_outputs = style_extractor(HDR_image*255)\n",
        "\n",
        "#Look at the statistics of each layer's output\n",
        "for name, output in zip(style_layers, style_outputs):\n",
        "  print(name)\n",
        "  print(\"  shape: \", output.numpy().shape)\n",
        "  print(\"  min: \", output.numpy().min())\n",
        "  print(\"  max: \", output.numpy().max())\n",
        "  print(\"  mean: \", output.numpy().mean())\n",
        "  print()"
      ],
      "execution_count": 0,
      "outputs": []
    },
    {
      "cell_type": "code",
      "metadata": {
        "id": "6BVT6v44jA0D",
        "colab_type": "code",
        "colab": {}
      },
      "source": [
        "def gram_matrix(input_tensor):\n",
        "  result = tf.linalg.einsum('bijc,bijd->bcd', input_tensor, input_tensor)\n",
        "  input_shape = tf.shape(input_tensor)\n",
        "  num_locations = tf.cast(input_shape[1]*input_shape[2], tf.float32)\n",
        "  return result/(num_locations)\n",
        "\n",
        "class StyleContentModel(tf.keras.models.Model):\n",
        "  def __init__(self, style_layers, content_layers):\n",
        "    super(StyleContentModel, self).__init__()\n",
        "    self.vgg =  vgg_layers(style_layers + content_layers)\n",
        "    self.style_layers = style_layers\n",
        "    self.content_layers = content_layers\n",
        "    self.num_style_layers = len(style_layers)\n",
        "    self.vgg.trainable = False\n",
        "\n",
        "  def call(self, inputs):\n",
        "    \"Expects float input in [0,1]\"\n",
        "    inputs = inputs*255.0\n",
        "    preprocessed_input = tf.keras.applications.vgg19.preprocess_input(inputs)\n",
        "    outputs = self.vgg(preprocessed_input)\n",
        "    style_outputs, content_outputs = (outputs[:self.num_style_layers], \n",
        "                                      outputs[self.num_style_layers:])\n",
        "\n",
        "    style_outputs = [gram_matrix(style_output)\n",
        "                     for style_output in style_outputs]\n",
        "\n",
        "    content_dict = {content_name:value \n",
        "                    for content_name, value \n",
        "                    in zip(self.content_layers, content_outputs)}\n",
        "\n",
        "    style_dict = {style_name:value\n",
        "                  for style_name, value\n",
        "                  in zip(self.style_layers, style_outputs)}\n",
        "    \n",
        "    return {'content':content_dict, 'style':style_dict}\n",
        "  \n",
        "extractor = StyleContentModel(style_layers, content_layers)\n",
        "\n",
        "results = extractor(tf.constant(SDR_image))\n",
        "\n",
        "style_results = results['style']\n",
        "\n",
        "print('Styles:')\n",
        "for name, output in sorted(results['style'].items()):\n",
        "  print(\"  \", name)\n",
        "  print(\"    shape: \", output.numpy().shape)\n",
        "  print(\"    min: \", output.numpy().min())\n",
        "  print(\"    max: \", output.numpy().max())\n",
        "  print(\"    mean: \", output.numpy().mean())\n",
        "  print()\n",
        "\n",
        "print(\"Contents:\")\n",
        "for name, output in sorted(results['content'].items()):\n",
        "  print(\"  \", name)\n",
        "  print(\"    shape: \", output.numpy().shape)\n",
        "  print(\"    min: \", output.numpy().min())\n",
        "  print(\"    max: \", output.numpy().max())\n",
        "  print(\"    mean: \", output.numpy().mean())"
      ],
      "execution_count": 0,
      "outputs": []
    },
    {
      "cell_type": "code",
      "metadata": {
        "id": "5_ICohmv2149",
        "colab_type": "code",
        "colab": {}
      },
      "source": [
        "style_targets = extractor(HDR_image)['style']\n",
        "content_targets = extractor(SDR_image)['content']\n",
        "\n",
        "image = tf.Variable(SDR_image)\n",
        "\n",
        "def clip_0_1(image):\n",
        "  return tf.clip_by_value(image, clip_value_min=0.0, clip_value_max=1.0)\n",
        "\n",
        "opt = tf.train.AdamOptimizer(learning_rate=0.02, beta1=0.99, epsilon=1e-1)\n",
        "\n",
        "style_weight=1e-2\n",
        "content_weight=1e4\n",
        "\n",
        "def style_content_loss(outputs):\n",
        "    style_outputs = outputs['style']\n",
        "    content_outputs = outputs['content']\n",
        "    style_loss = tf.add_n([tf.reduce_mean((style_outputs[name]-style_targets[name])**2) \n",
        "                           for name in style_outputs.keys()])\n",
        "    style_loss *= style_weight / num_style_layers\n",
        "\n",
        "    content_loss = tf.add_n([tf.reduce_mean((content_outputs[name]-content_targets[name])**2) \n",
        "                             for name in content_outputs.keys()])\n",
        "    content_loss *= content_weight / num_content_layers\n",
        "    loss = style_loss + content_loss\n",
        "    return loss\n",
        "  \n",
        "@tf.function()\n",
        "def train_step(image):\n",
        "  with tf.GradientTape() as tape:\n",
        "    outputs = extractor(image)\n",
        "    loss = style_content_loss(outputs)\n",
        "\n",
        "  grad = tape.gradient(loss, image)\n",
        "  opt.apply_gradients([(grad, image)])\n",
        "  image.assign(clip_0_1(image)) \n",
        "  \n",
        "train_step(image)\n",
        "train_step(image)\n",
        "train_step(image)\n",
        "plt.imshow(image.read_value()[0])"
      ],
      "execution_count": 0,
      "outputs": []
    },
    {
      "cell_type": "markdown",
      "metadata": {
        "id": "G7r33Rwz0hy7",
        "colab_type": "text"
      },
      "source": [
        "# New Section"
      ]
    },
    {
      "cell_type": "code",
      "metadata": {
        "id": "d0sOn_64rCbW",
        "colab_type": "code",
        "colab": {}
      },
      "source": [
        "import imageio\n",
        "import numpy as np\n",
        "\n",
        "# Construct 16-bit gradient greyscale image\n",
        "im = np.mgrid[0:65536:1].reshape(256,256)\n",
        "\n",
        "# Save as PNG with imageio\n",
        "imageio.imwrite('result.jpg',im)\n",
        "\n",
        "\n",
        "################################\n",
        "\n",
        "#TO READ HDR IMAGES WITHOUT LOSS\n",
        "#import cv2\n",
        "#import numpy as np\n",
        "\n",
        "#filename = \"GoldenGate_2k.hdr\"\n",
        "#im = cv2.imread(filename, cv2.IMREAD_ANYDEPTH)\n",
        "\n",
        "################################"
      ],
      "execution_count": 0,
      "outputs": []
    },
    {
      "cell_type": "code",
      "metadata": {
        "id": "328rbZkVsWbg",
        "colab_type": "code",
        "colab": {}
      },
      "source": [
        "from google.colab import drive\n",
        "drive.mount('/content/drive')"
      ],
      "execution_count": 0,
      "outputs": []
    }
  ]
}